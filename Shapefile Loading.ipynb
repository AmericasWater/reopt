{
 "cells": [
  {
   "cell_type": "code",
   "execution_count": 2,
   "metadata": {},
   "outputs": [
    {
     "name": "stderr",
     "output_type": "stream",
     "text": [
      "\u001b[1m\u001b[34mINFO: Cloning cache of Shapefile from git://github.com/JuliaGeo/Shapefile.jl.git\n",
      "\u001b[0m\u001b[1m\u001b[34mINFO: Installing Shapefile v0.0.3\n",
      "\u001b[0m\u001b[1m\u001b[34mINFO: Package database updated\n",
      "\u001b[0m\u001b[1m\u001b[34mINFO: METADATA is out-of-date — you may not have the latest version of Shapefile\n",
      "\u001b[0m\u001b[1m\u001b[34mINFO: Use `Pkg.update()` to get the latest versions of your packages\n",
      "\u001b[0m"
     ]
    }
   ],
   "source": [
    "Pkg.add(\"Shapefile\")"
   ]
  },
  {
   "cell_type": "code",
   "execution_count": 3,
   "metadata": {
    "collapsed": true
   },
   "outputs": [],
   "source": [
    "using Shapefile"
   ]
  },
  {
   "cell_type": "code",
   "execution_count": 5,
   "metadata": {},
   "outputs": [
    {
     "data": {
      "text/plain": [
       "Shapefile.Handle(9994,6154594,1000,5,Shapefile.Rect{Float64}(24.200000000000003,-125.1,49.7,-66.49999999999999),Shapefile.Interval{Float64}(0.0,0.0),Shapefile.Interval{Float64}(0.0,0.0),Shapefile.ESRIShape[Polygon(5 Float64 Points),Polygon(5 Float64 Points),Polygon(5 Float64 Points),Polygon(5 Float64 Points),Polygon(5 Float64 Points),Polygon(5 Float64 Points),Polygon(5 Float64 Points),Polygon(5 Float64 Points),Polygon(5 Float64 Points),Polygon(5 Float64 Points)  …  Polygon(5 Float64 Points),Polygon(5 Float64 Points),Polygon(5 Float64 Points),Polygon(5 Float64 Points),Polygon(5 Float64 Points),Polygon(5 Float64 Points),Polygon(5 Float64 Points),Polygon(5 Float64 Points),Polygon(5 Float64 Points),Polygon(5 Float64 Points)])"
      ]
     },
     "execution_count": 5,
     "metadata": {},
     "output_type": "execute_result"
    }
   ],
   "source": [
    "shp = open(\"GridtoCounty/solar1.shp\") do fd\n",
    "    read(fd, Shapefile.Handle)\n",
    "end"
   ]
  }
 ],
 "metadata": {
  "kernelspec": {
   "display_name": "Julia 0.4.0",
   "language": "julia",
   "name": "julia-0.4"
  },
  "language_info": {
   "file_extension": ".jl",
   "mimetype": "application/julia",
   "name": "julia",
   "version": "0.4.0"
  }
 },
 "nbformat": 4,
 "nbformat_minor": 2
}
