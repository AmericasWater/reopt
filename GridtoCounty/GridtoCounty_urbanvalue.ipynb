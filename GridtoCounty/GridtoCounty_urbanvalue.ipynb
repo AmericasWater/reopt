{
 "cells": [
  {
   "cell_type": "code",
   "execution_count": 3,
   "metadata": {
    "scrolled": true
   },
   "outputs": [
    {
     "name": "stderr",
     "output_type": "stream",
     "text": [
      "\u001b[1m\u001b[36mINFO: \u001b[39m\u001b[22m\u001b[36mPrecompiling module RCall.\n",
      "\u001b[39mWARNING: Method definition ==(Base.Nullable{S}, Base.Nullable{T}) in module Base at nullable.jl:238 overwritten in module NullableArrays at C:\\Users\\jc3246\\.julia\\v0.6\\NullableArrays\\src\\operators.jl:128.\n",
      "WARNING: Method definition ==(Base.Nullable{S}, Base.Nullable{T}) in module Base at nullable.jl:238 overwritten in module NullableArrays at C:\\Users\\jc3246\\.julia\\v0.6\\NullableArrays\\src\\operators.jl:128.\n",
      "WARNING: Method definition ==(Base.Nullable{S}, Base.Nullable{T}) in module Base at nullable.jl:238 overwritten in module NullableArrays at C:\\Users\\jc3246\\.julia\\v0.6\\NullableArrays\\src\\operators.jl:128.\n",
      "\u001b[1m\u001b[33mWARNING: \u001b[39m\u001b[22m\u001b[33mArray{T}(::Type{T}, m::Integer) is deprecated, use Array{T}(Int(m)) instead.\u001b[39m\n",
      "Stacktrace:\n",
      " [1] \u001b[1mdepwarn\u001b[22m\u001b[22m\u001b[1m(\u001b[22m\u001b[22m::String, ::Symbol\u001b[1m)\u001b[22m\u001b[22m at \u001b[1m.\\deprecated.jl:70\u001b[22m\u001b[22m\n",
      " [2] \u001b[1mArray\u001b[22m\u001b[22m\u001b[1m(\u001b[22m\u001b[22m::Type{UInt8}, ::UInt32\u001b[1m)\u001b[22m\u001b[22m at \u001b[1m.\\deprecated.jl:57\u001b[22m\u001b[22m\n",
      " [3] \u001b[1mquerykey\u001b[22m\u001b[22m\u001b[1m(\u001b[22m\u001b[22m::UInt32, ::String\u001b[1m)\u001b[22m\u001b[22m at \u001b[1mC:\\Users\\jc3246\\.julia\\v0.6\\WinReg\\src\\WinReg.jl:78\u001b[22m\u001b[22m\n",
      " [4] \u001b[1mquerykey\u001b[22m\u001b[22m\u001b[1m(\u001b[22m\u001b[22m::UInt32, ::String, ::String\u001b[1m)\u001b[22m\u001b[22m at \u001b[1mC:\\Users\\jc3246\\.julia\\v0.6\\WinReg\\src\\WinReg.jl:113\u001b[22m\u001b[22m\n",
      " [5] \u001b[1mlocate_Rhome_libR\u001b[22m\u001b[22m\u001b[1m(\u001b[22m\u001b[22m\u001b[1m)\u001b[22m\u001b[22m at \u001b[1mC:\\Users\\jc3246\\.julia\\v0.6\\RCall\\src\\setup.jl:36\u001b[22m\u001b[22m\n",
      " [6] \u001b[1minclude_from_node1\u001b[22m\u001b[22m\u001b[1m(\u001b[22m\u001b[22m::String\u001b[1m)\u001b[22m\u001b[22m at \u001b[1m.\\loading.jl:569\u001b[22m\u001b[22m\n",
      " [7] \u001b[1minclude\u001b[22m\u001b[22m\u001b[1m(\u001b[22m\u001b[22m::String\u001b[1m)\u001b[22m\u001b[22m at \u001b[1m.\\sysimg.jl:14\u001b[22m\u001b[22m\n",
      " [8] \u001b[1minclude_from_node1\u001b[22m\u001b[22m\u001b[1m(\u001b[22m\u001b[22m::String\u001b[1m)\u001b[22m\u001b[22m at \u001b[1m.\\loading.jl:569\u001b[22m\u001b[22m\n",
      " [9] \u001b[1minclude\u001b[22m\u001b[22m\u001b[1m(\u001b[22m\u001b[22m::String\u001b[1m)\u001b[22m\u001b[22m at \u001b[1m.\\sysimg.jl:14\u001b[22m\u001b[22m\n",
      " [10] \u001b[1manonymous\u001b[22m\u001b[22m at \u001b[1m.\\<missing>:2\u001b[22m\u001b[22m\n",
      " [11] \u001b[1meval\u001b[22m\u001b[22m\u001b[1m(\u001b[22m\u001b[22m::Module, ::Any\u001b[1m)\u001b[22m\u001b[22m at \u001b[1m.\\boot.jl:235\u001b[22m\u001b[22m\n",
      " [12] \u001b[1mprocess_options\u001b[22m\u001b[22m\u001b[1m(\u001b[22m\u001b[22m::Base.JLOptions\u001b[1m)\u001b[22m\u001b[22m at \u001b[1m.\\client.jl:286\u001b[22m\u001b[22m\n",
      " [13] \u001b[1m_start\u001b[22m\u001b[22m\u001b[1m(\u001b[22m\u001b[22m\u001b[1m)\u001b[22m\u001b[22m at \u001b[1m.\\client.jl:371\u001b[22m\u001b[22m\n",
      "while loading C:\\Users\\jc3246\\.julia\\v0.6\\RCall\\src\\setup.jl, in expression starting on line 51\n",
      "\u001b[1m\u001b[36mINFO: \u001b[39m\u001b[22m\u001b[36mUsing R installation at C:\\Program Files\\R\\R-3.4.0\n",
      "\u001b[39mWARNING: Method definition ==(Base.Nullable{S}, Base.Nullable{T}) in module Base at nullable.jl:238 overwritten in module NullableArrays at C:\\Users\\jc3246\\.julia\\v0.6\\NullableArrays\\src\\operators.jl:128.\n"
     ]
    }
   ],
   "source": [
    "using RCall"
   ]
  },
  {
   "cell_type": "code",
   "execution_count": 2,
   "metadata": {},
   "outputs": [
    {
     "name": "stderr",
     "output_type": "stream",
     "text": [
      "\u001b[1m\u001b[36mINFO: \u001b[39m\u001b[22m\u001b[36mCloning cache of AxisArrays from https://github.com/JuliaArrays/AxisArrays.jl.git\n",
      "\u001b[39m\u001b[1m\u001b[36mINFO: \u001b[39m\u001b[22m\u001b[36mCloning cache of CategoricalArrays from https://github.com/JuliaData/CategoricalArrays.jl.git\n",
      "\u001b[39m\u001b[1m\u001b[36mINFO: \u001b[39m\u001b[22m\u001b[36mCloning cache of Combinatorics from https://github.com/JuliaMath/Combinatorics.jl.git\n",
      "\u001b[39m\u001b[1m\u001b[36mINFO: \u001b[39m\u001b[22m\u001b[36mCloning cache of DataArrays from https://github.com/JuliaStats/DataArrays.jl.git\n",
      "\u001b[39m\u001b[1m\u001b[36mINFO: \u001b[39m\u001b[22m\u001b[36mCloning cache of DataFrames from https://github.com/JuliaStats/DataFrames.jl.git\n",
      "\u001b[39m\u001b[1m\u001b[36mINFO: \u001b[39m\u001b[22m\u001b[36mCloning cache of DataStructures from https://github.com/JuliaCollections/DataStructures.jl.git\n",
      "\u001b[39m\u001b[1m\u001b[36mINFO: \u001b[39m\u001b[22m\u001b[36mCloning cache of FileIO from https://github.com/JuliaIO/FileIO.jl.git\n",
      "\u001b[39m\u001b[1m\u001b[36mINFO: \u001b[39m\u001b[22m\u001b[36mCloning cache of GZip from https://github.com/JuliaIO/GZip.jl.git\n",
      "\u001b[39m\u001b[1m\u001b[36mINFO: \u001b[39m\u001b[22m\u001b[36mCloning cache of IntervalSets from https://github.com/JuliaMath/IntervalSets.jl.git\n",
      "\u001b[39m\u001b[1m\u001b[36mINFO: \u001b[39m\u001b[22m\u001b[36mCloning cache of IterTools from https://github.com/JuliaCollections/IterTools.jl.git\n",
      "\u001b[39m\u001b[1m\u001b[36mINFO: \u001b[39m\u001b[22m\u001b[36mCloning cache of NamedArrays from https://github.com/davidavdav/NamedArrays.jl.git\n",
      "\u001b[39m\u001b[1m\u001b[36mINFO: \u001b[39m\u001b[22m\u001b[36mCloning cache of NullableArrays from https://github.com/JuliaStats/NullableArrays.jl.git\n",
      "\u001b[39m\u001b[1m\u001b[36mINFO: \u001b[39m\u001b[22m\u001b[36mCloning cache of Polynomials from https://github.com/JuliaMath/Polynomials.jl.git\n",
      "\u001b[39m\u001b[1m\u001b[36mINFO: \u001b[39m\u001b[22m\u001b[36mCloning cache of RCall from https://github.com/JuliaInterop/RCall.jl.git\n",
      "\u001b[39m\u001b[1m\u001b[36mINFO: \u001b[39m\u001b[22m\u001b[36mCloning cache of RangeArrays from https://github.com/JuliaArrays/RangeArrays.jl.git\n",
      "\u001b[39m\u001b[1m\u001b[36mINFO: \u001b[39m\u001b[22m\u001b[36mCloning cache of Reexport from https://github.com/simonster/Reexport.jl.git\n",
      "\u001b[39m\u001b[1m\u001b[36mINFO: \u001b[39m\u001b[22m\u001b[36mCloning cache of SortingAlgorithms from https://github.com/JuliaCollections/SortingAlgorithms.jl.git\n",
      "\u001b[39m\u001b[1m\u001b[36mINFO: \u001b[39m\u001b[22m\u001b[36mCloning cache of SpecialFunctions from https://github.com/JuliaMath/SpecialFunctions.jl.git\n",
      "\u001b[39m\u001b[1m\u001b[36mINFO: \u001b[39m\u001b[22m\u001b[36mCloning cache of StatsBase from https://github.com/JuliaStats/StatsBase.jl.git\n",
      "\u001b[39m\u001b[1m\u001b[36mINFO: \u001b[39m\u001b[22m\u001b[36mCloning cache of WinReg from https://github.com/simonbyrne/WinReg.jl.git\n",
      "\u001b[39m\u001b[1m\u001b[36mINFO: \u001b[39m\u001b[22m\u001b[36mInstalling AxisArrays v0.1.3\n",
      "\u001b[39m\u001b[1m\u001b[36mINFO: \u001b[39m\u001b[22m\u001b[36mInstalling CategoricalArrays v0.1.6\n",
      "\u001b[39m\u001b[1m\u001b[36mINFO: \u001b[39m\u001b[22m\u001b[36mInstalling Combinatorics v0.4.1\n",
      "\u001b[39m\u001b[1m\u001b[36mINFO: \u001b[39m\u001b[22m\u001b[36mInstalling DataArrays v0.5.3\n",
      "\u001b[39m\u001b[1m\u001b[36mINFO: \u001b[39m\u001b[22m\u001b[36mInstalling DataFrames v0.10.0\n",
      "\u001b[39m\u001b[1m\u001b[36mINFO: \u001b[39m\u001b[22m\u001b[36mInstalling DataStructures v0.5.3\n",
      "\u001b[39m\u001b[1m\u001b[36mINFO: \u001b[39m\u001b[22m\u001b[36mInstalling FileIO v0.4.1\n",
      "\u001b[39m\u001b[1m\u001b[36mINFO: \u001b[39m\u001b[22m\u001b[36mInstalling GZip v0.3.0\n",
      "\u001b[39m\u001b[1m\u001b[36mINFO: \u001b[39m\u001b[22m\u001b[36mInstalling IntervalSets v0.0.5\n",
      "\u001b[39m\u001b[1m\u001b[36mINFO: \u001b[39m\u001b[22m\u001b[36mInstalling IterTools v0.1.0\n",
      "\u001b[39m\u001b[1m\u001b[36mINFO: \u001b[39m\u001b[22m\u001b[36mInstalling NamedArrays v0.6.1\n",
      "\u001b[39m\u001b[1m\u001b[36mINFO: \u001b[39m\u001b[22m\u001b[36mInstalling NullableArrays v0.1.1\n",
      "\u001b[39m\u001b[1m\u001b[36mINFO: \u001b[39m\u001b[22m\u001b[36mInstalling Polynomials v0.1.5\n",
      "\u001b[39m\u001b[1m\u001b[36mINFO: \u001b[39m\u001b[22m\u001b[36mInstalling RCall v0.7.3\n",
      "\u001b[39m\u001b[1m\u001b[36mINFO: \u001b[39m\u001b[22m\u001b[36mInstalling RangeArrays v0.2.0\n",
      "\u001b[39m\u001b[1m\u001b[36mINFO: \u001b[39m\u001b[22m\u001b[36mInstalling Reexport v0.0.3\n",
      "\u001b[39m\u001b[1m\u001b[36mINFO: \u001b[39m\u001b[22m\u001b[36mInstalling SortingAlgorithms v0.1.1\n",
      "\u001b[39m\u001b[1m\u001b[36mINFO: \u001b[39m\u001b[22m\u001b[36mInstalling SpecialFunctions v0.1.1\n",
      "\u001b[39m\u001b[1m\u001b[36mINFO: \u001b[39m\u001b[22m\u001b[36mInstalling StatsBase v0.16.1\n",
      "\u001b[39m\u001b[1m\u001b[36mINFO: \u001b[39m\u001b[22m\u001b[36mInstalling WinReg v0.2.0\n",
      "\u001b[39m\u001b[1m\u001b[36mINFO: \u001b[39m\u001b[22m\u001b[36mPackage database updated\n",
      "\u001b[39m"
     ]
    }
   ],
   "source": [
    "Pkg.add(\"RCall\")"
   ]
  },
  {
   "cell_type": "code",
   "execution_count": 5,
   "metadata": {},
   "outputs": [
    {
     "name": "stderr",
     "output_type": "stream",
     "text": [
      "\u001b[1m\u001b[33mWARNING: \u001b[39m\u001b[22m\u001b[33mRCall.jl: Loading required package: sp\u001b[39m\n",
      "\u001b[1m\u001b[33mWARNING: \u001b[39m\u001b[22m\u001b[33mRCall.jl: Checking rgeos availability: FALSE\n",
      " \tNote: when rgeos is not available, polygon geometry \tcomputations in maptools depend on gpclib,\n",
      " \twhich has a restricted licence. It is disabled by default;\n",
      " \tto enable gpclib, type gpclibPermit()\u001b[39m\n"
     ]
    },
    {
     "data": {
      "text/plain": [
       "RCall.RObject{RCall.StrSxp}\n",
       " [1] \"maps\"      \"maptools\"  \"raster\"    \"sp\"        \"stats\"     \"graphics\" \n",
       " [7] \"grDevices\" \"utils\"     \"datasets\"  \"methods\"   \"base\"     \n"
      ]
     },
     "execution_count": 5,
     "metadata": {},
     "output_type": "execute_result"
    }
   ],
   "source": [
    "R\"library(raster)\"\n",
    "R\"library(maptools)\"\n",
    "R\"library(maps)\""
   ]
  },
  {
   "cell_type": "code",
   "execution_count": 6,
   "metadata": {
    "collapsed": true
   },
   "outputs": [],
   "source": [
    "cd(\"C:/Users/jc3246/Desktop/Soko_Lei/GridtoCounty\")"
   ]
  },
  {
   "cell_type": "code",
   "execution_count": 7,
   "metadata": {},
   "outputs": [
    {
     "name": "stderr",
     "output_type": "stream",
     "text": [
      "\u001b[1m\u001b[33mWARNING: \u001b[39m\u001b[22m\u001b[33mRCall.jl: Warning: use rgdal::readOGR or sf::st_read\u001b[39m\n"
     ]
    },
    {
     "data": {
      "text/plain": [
       "RCall.RObject{RCall.RealSxp}\n",
       "[1] 0\n"
      ]
     },
     "execution_count": 7,
     "metadata": {},
     "output_type": "execute_result"
    }
   ],
   "source": [
    "R\"urban1<-readShapePoly('urban1.shp')\"\n",
    "R\"y<-raster(ncols=587,nrows=256,xmn=-125.1,xmx=-66.5,ymn=24.2,ymx=49.7)\"\n",
    "R\"urbangrid1<-rasterize(urban1, y, 'URBANAP020') \"\n",
    "R\"urbangrid1[is.na(urbangrid1)==TRUE]<-0\"\n"
   ]
  },
  {
   "cell_type": "code",
   "execution_count": 8,
   "metadata": {},
   "outputs": [
    {
     "data": {
      "text/plain": [
       "RCall.RObject{RCall.NilSxp}\n",
       "NULL\n"
      ]
     },
     "execution_count": 8,
     "metadata": {},
     "output_type": "execute_result"
    }
   ],
   "source": [
    "R\"write.table(as.matrix(urbangrid1),'urbangrid1.txt',row.names=FALSE, col.names=FALSE)\""
   ]
  },
  {
   "cell_type": "code",
   "execution_count": 9,
   "metadata": {
    "collapsed": true
   },
   "outputs": [],
   "source": [
    "urban=readdlm(\"urbangrid1.txt\",header=false);"
   ]
  },
  {
   "cell_type": "code",
   "execution_count": 10,
   "metadata": {
    "collapsed": true
   },
   "outputs": [],
   "source": [
    "is_urban=urban;\n",
    "for m=1:256\n",
    "    for n=1:587\n",
    "    if urban[m,n]>0\n",
    "            is_urban[m,n]=1\n",
    "        else\n",
    "            is_urban[m,n]=0\n",
    "        end\n",
    "    end\n",
    "end"
   ]
  },
  {
   "cell_type": "code",
   "execution_count": 11,
   "metadata": {
    "collapsed": true
   },
   "outputs": [],
   "source": [
    "R=3;V=1;\n",
    "value1=sqrt(2)*V*[(1:R)' (R:-1:1)']/R;\n",
    "value2=(ones(2*R,1)*value1).*(ones(2*R,1)*value1)';\n",
    "raw=conv2(value2,is_urban);\n",
    "raw[find(raw.<0.1)]=0;\n",
    "urban_value=raw[R:(256+R-1),R:(587+R-1)];"
   ]
  },
  {
   "cell_type": "code",
   "execution_count": 23,
   "metadata": {
    "collapsed": true
   },
   "outputs": [],
   "source": [
    "writedlm(\"urban_value.txt\", \"urban_value\")\n",
    "    "
   ]
  },
  {
   "cell_type": "code",
   "execution_count": 50,
   "metadata": {},
   "outputs": [
    {
     "data": {
      "text/plain": [
       "RCall.RObject{RCall.S4Sxp}\n",
       "class       : RasterLayer \n",
       "dimensions  : 256, 587, 150272  (nrow, ncol, ncell)\n",
       "resolution  : 0.09982964, 0.09960938  (x, y)\n",
       "extent      : -125.1, -66.5, 24.2, 49.7  (xmin, xmax, ymin, ymax)\n",
       "coord. ref. : +proj=longlat +datum=WGS84 +ellps=WGS84 +towgs84=0,0,0 \n",
       "data source : in memory\n",
       "names       : layer \n",
       "values      : 0, 23.33333  (min, max)\n",
       "\n"
      ]
     },
     "execution_count": 50,
     "metadata": {},
     "output_type": "execute_result"
    }
   ],
   "source": [
    "\n",
    "R\"urbanvalue<-as.matrix(read.table('urban_value.txt',header=F, sep = '\\t',as.is=TRUE));\"\n",
    "R\"rast1<-raster(urbanvalue)\"\n",
    "R\"extent(rast1)=c(-125.1,-66.5,24.2,49.7)\"\n",
    "R\"projection(rast1) = CRS('+proj=longlat +datum=WGS84')\"\n",
    "R\"urbanvalue<-rast1\"\n"
   ]
  },
  {
   "cell_type": "code",
   "execution_count": 51,
   "metadata": {},
   "outputs": [],
   "source": [
    "R\"urbanpoint<-rasterToPoints(urbanvalue, fun=NULL, spatial=FALSE);\"\n",
    "R\"x<-urbanpoint[,1]\";\n",
    "R\"y<-urbanpoint[,2]\";\n",
    "R\"xy<-cbind(x,y)\";\n",
    "R\"urban_value<-urbanpoint[,3]\";"
   ]
  },
  {
   "cell_type": "code",
   "execution_count": 52,
   "metadata": {},
   "outputs": [
    {
     "name": "stderr",
     "output_type": "stream",
     "text": [
      "\u001b[1m\u001b[33mWARNING: \u001b[39m\u001b[22m\u001b[33mRCall.jl: Warning: use rgdal::readOGR or sf::st_read\u001b[39m\n"
     ]
    },
    {
     "data": {
      "text/plain": [
       "RCall.RObject{RCall.S4Sxp}\n",
       "class       : SpatialPolygonsDataFrame \n",
       "features    : 3141 \n",
       "extent      : -179.1473, 179.7785, 18.91393, 71.38961  (xmin, xmax, ymin, ymax)\n",
       "coord. ref. : NA \n",
       "variables   : 20\n",
       "names       : DECADE,  NHGISNAM, NHGISST, NHGISCTY, ICPSRST, ICPSRCTY,  ICPSRNAM, STATENAM, ICPSRSTI, ICPSRCTYI, ICPSRFIP, STATE, COUNTY,  PID,    X_CENTROID, ... \n",
       "min values  :   2000, Abbeville,     010,     0010,       1,       10, ABBEVILLE,  Alabama,        0,         0,        0,   010,   0010,    0, -1.003157e+06, ... \n",
       "max values  :   2000,   Ziebach,     560,     8400,      82,      990,   ZIEBACH,  Wyoming,       82,      8400,        0,   560,   8400, 3109,  9.994701e+05, ... \n"
      ]
     },
     "execution_count": 52,
     "metadata": {},
     "output_type": "execute_result"
    }
   ],
   "source": [
    "R\"CountyBoundary<-readShapePoly('US_county_2000-simple-latlon.shp');\""
   ]
  },
  {
   "cell_type": "code",
   "execution_count": null,
   "metadata": {},
   "outputs": [],
   "source": [
    "R\"county <-matrix(numeric(0), 3109,0);\"\n",
    "R\"for(i in 1:3109){\n",
    "  countyboundary <- subset(CountyBoundary,PID==i)\n",
    "  temp_JJJ <- raster(res=10) \n",
    "  extent(temp_JJJ) <- extent(countyboundary)\n",
    "  out <- rasterize(countyboundary, temp_JJJ,'PID')\n",
    "  countyresult<- rasterize(xy,out, urban_value)\n",
    "  county[i]<-cellStats(countyresult,sum)\n",
    "}\""
   ]
  },
  {
   "cell_type": "code",
   "execution_count": null,
   "metadata": {
    "collapsed": true
   },
   "outputs": [],
   "source": []
  }
 ],
 "metadata": {
  "kernelspec": {
   "display_name": "Julia 0.6.0",
   "language": "julia",
   "name": "julia-0.6"
  },
  "language_info": {
   "file_extension": ".jl",
   "mimetype": "application/julia",
   "name": "julia",
   "version": "0.6.0"
  }
 },
 "nbformat": 4,
 "nbformat_minor": 2
}
